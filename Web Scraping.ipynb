{
 "cells": [
  {
   "cell_type": "markdown",
   "metadata": {},
   "source": [
    "# Web Scraping Notebook\n",
    "I want to get a list of the topics on the reddit front page and also grab the comments for each thread."
   ]
  },
  {
   "cell_type": "code",
   "execution_count": 17,
   "metadata": {
    "collapsed": false
   },
   "outputs": [],
   "source": [
    "from bs4 import BeautifulSoup\n",
    "import pandas as pd\n",
    "import requests\n",
    "import re"
   ]
  },
  {
   "cell_type": "code",
   "execution_count": 18,
   "metadata": {
    "collapsed": false
   },
   "outputs": [],
   "source": [
    "# This is the webpage I want to scrape\n",
    "url = requests.get('http://www.reddit.com/r/politics/')\n",
    "\n",
    "# Load in the HTML data\n",
    "data = url.text\n",
    "soup = BeautifulSoup(data,\"lxml\")"
   ]
  },
  {
   "cell_type": "markdown",
   "metadata": {},
   "source": [
    "Turns out the section I want actually has an ID associated, so we can just go ahead and call it straight from the Soup!"
   ]
  },
  {
   "cell_type": "code",
   "execution_count": 25,
   "metadata": {
    "collapsed": true
   },
   "outputs": [],
   "source": [
    "# Jump straight to site table\n",
    "site_table = soup.find(\"div\",{\"id\":\"siteTable\"})\n",
    "\n",
    "# Site_table contains an extra div object in between all the threads, so I want to skip over that. That's why I'm selecting\n",
    "# only divs with 'thing' in the class, since those pertain directly to threads\n",
    "site_table2 = site_table.findAll(\"div\",class_=lambda x: x and 'thing' in x)\n",
    "\n",
    "# Now loop through each thread and retrieve the thread title, comment URL and number of comments.\n",
    "titles = []\n",
    "links = []\n",
    "comment_count = []\n",
    "for thread in site_table2:\n",
    "    # Grab the titles from the title paragraph\n",
    "    title = thread.find(\"p\",class_=\"title\").a.string\n",
    "    titles.append(title)\n",
    "    # Comment data is located in the \"flat-list buttons\" list\n",
    "    ul = thread.find(\"ul\",class_=\"flat-list buttons\")\n",
    "    comment_url = ul.a['href']\n",
    "    num_comments = ul.a.string\n",
    "    links.append(comment_url)\n",
    "    comment_count.append(num_comments)\n",
    "\n",
    "# Extract the just the number of comments for each thread\n",
    "comment_count = [re.match('(.*?)\\s',x) for x in comment_count]\n",
    "\n",
    "# If there are no comments, the match object will be NoneType. We want to convert that to a 0 and then convert the\n",
    "# counts to integers.\n",
    "for i, count in enumerate(comment_count):\n",
    "    if count == None:\n",
    "        comment_count[i] = 0\n",
    "    else:\n",
    "        comment_count[i] = int(count.group(0).strip())\n",
    "\n",
    "data = pd.DataFrame({'Title':titles,'Number of Comments':comment_count,'URL':links})"
   ]
  }
 ],
 "metadata": {
  "kernelspec": {
   "display_name": "Python 3",
   "language": "python",
   "name": "python3"
  },
  "language_info": {
   "codemirror_mode": {
    "name": "ipython",
    "version": 3
   },
   "file_extension": ".py",
   "mimetype": "text/x-python",
   "name": "python",
   "nbconvert_exporter": "python",
   "pygments_lexer": "ipython3",
   "version": "3.5.1"
  }
 },
 "nbformat": 4,
 "nbformat_minor": 0
}
