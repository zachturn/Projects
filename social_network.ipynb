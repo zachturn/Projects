{
 "cells": [
  {
   "cell_type": "markdown",
   "metadata": {},
   "source": [
    "# League Social Network using Reddit Comments\n",
    "This notebook will create a social network consisting of champions that are mentioned in the same comment trees.\n",
    "\n",
    "## Steps\n",
    "1. Clean my data (trim new line characters, apostrophes, etc.)\n",
    "2. Define regular expressions to use to search for occurrences of a particular champion mention. Some champions have nicknames and abbreviations that I want to account for.\n",
    "3. For each comment tree, I'll create a list of champions that are mentioned within it.\n",
    "4. Once I have this set of lists, I can create a count of occurrences of each unique combination and use that to create an adjacency matrix.\n",
    "5. Finally, I can create my network from my adjacency matrix."
   ]
  },
  {
   "cell_type": "markdown",
   "metadata": {},
   "source": [
    "## Regular Expression (Cleaning)\n",
    "First I'll clean up my data so I'm just working with words, separated by spaces. Note that this cleaning is really only meant to help with champion names (some other words will get distorted in process but I'm not too worried). "
   ]
  },
  {
   "cell_type": "code",
   "execution_count": 391,
   "metadata": {
    "collapsed": false
   },
   "outputs": [],
   "source": [
    "import re\n",
    "import json\n",
    "from tqdm import tqdm_notebook\n",
    "\n",
    "main_dict = json.load(open('thread_comments_25pg.txt'))"
   ]
  },
  {
   "cell_type": "code",
   "execution_count": 379,
   "metadata": {
    "collapsed": false,
    "scrolled": true
   },
   "outputs": [],
   "source": [
    "for thread, comments in main_dict.items():\n",
    "    for i, tree in enumerate(comments):\n",
    "        for j, comment in enumerate(tree): \n",
    "            comment = re.sub('(\\'s)','',comment)\n",
    "            comment = re.sub('[\\n!?\\\"\\'.,\\\\-/*\\(\\)]',' ',comment)\n",
    "            main_dict[thread][i][j] = ' '+ comment + ' '"
   ]
  },
  {
   "cell_type": "markdown",
   "metadata": {},
   "source": [
    "## RegEx (Champion Searching)\n",
    "Now that the data is prepared, I'll create a regular expression pattern to search for which champions are mentioned in each tree. \n",
    "\n",
    "In the regular expression, I'm going to name my capture groups, and then I can easily access which groups were captured using the groupdict method. This will tell me what champions are mentioned in the trees. I'll later use these to build out my adjacency matrix.\n",
    "\n",
    "I used the official website (http://gameinfo.na.leagueoflegends.com/en/game-info/champions/) as my reference, but will also include some common nicknames for the champions to try to capture them all (e.g. j4 for Jarvan IV)."
   ]
  },
  {
   "cell_type": "code",
   "execution_count": 443,
   "metadata": {
    "collapsed": false
   },
   "outputs": [],
   "source": [
    "# Create regular expression. I can shorten this by typing the champs in\n",
    "# a list and then joining together into one long string.\n",
    "champs = ['\\s(?P<Aatrox>aatrox','Ahri>ahri','Akali>akali','Alistar>ali\\s|alistar',\n",
    "         'Amumu>mumu|amumu','Anivia>anivia','Annie>annia','Ashe>ashe\\s','AurelionSol>aurelion|sol\\s',\n",
    "         'Azir>azir','Bard>bard','Blitzcrank>blitz','Brand>brand','Braum>braum',\n",
    "         'Caitlyn>cait\\s|caitlyn','Cassiopeia>cass\\s|cassiopeia','ChoGath>cho\\s|chogath',\n",
    "         'Corki>corki','Darius>darius','Diana>diana','DrMundo>mundo\\s','Draven>draven',\n",
    "         'Ekko>ekko','Elise>elise','Eveleynn>eve\\s|evelynn','Ezreal>ez\\s|ezreal',\n",
    "         'Fiddlesticks>fiddle\\s|fiddlesticks','Fiora>fiora','Fizz>fizz','Galio>galio',\n",
    "         'Gangplank>gp\\s|gangplank','Garen>garen','Gnar>gnar','Gragas>grag','Graves>graves',\n",
    "         'Hecarmin>hec\\s|hecarim','Heimerdinger>heim\\s|heimer|donger','Illaoi>illaoi',\n",
    "         'Irelia>irelia','Janna>janna','JarvanIV>j4|jarvan|jiv\\s','Jax>jax',\n",
    "         'Jayce>jayce','Jhin>jhin','Jinx>jinx','Kalista>kalista','Karma>karma',\n",
    "         'Karthus>karthus','Kassadin>kass\\s|kassadin','Katarina>kat\\s|katarina',\n",
    "         'Kayle>kayle','Kennen>kennen','KhaZix>kha\\s|khazix','Kindred>kindred',\n",
    "         'Kled>kled',\"KogMaw>kog\\s|kogmaw\",'LeBlanc>lb\\s|leblanc','LeeSin>lee\\s|leesin',\n",
    "         'Leona>leona','Lissandra>liss\\s|lissandra','Lucian>luc\\s|lucian','Lulu>lulu',\n",
    "         'Lux>lux','Malphite>malph\\s|malphite','Malzahar>malz\\s|malzahar','Maokai>mao\\s|maokai',\n",
    "         'MasterYi>yi\\s','MissFortune>mf\\s|miss\\sfortune','Mordekaizer>morde\\s|mordekaiser',\n",
    "         'Morgana>morg\\s|morgana','Nami>nami','Nasus>nasus|susan','Nautiulus>naut\\s|nautilus',\n",
    "         'Nidalee>nid\\s|nidalee','Nocturne>noct\\s|nocturne','Nunu>nunu','Olaf>olaf',\n",
    "         'Orianna>ori\\s|orianna','Panthen>panth\\s|pantheon','Poppy>poppy','Quinn>quinn',\n",
    "         'Rammus>rammus','RekSai>rek\\s|reksai','Renekton>renekton','Rengar>rengar|rengo',\n",
    "         'Riven>riven','Rumble>rumble','Ryze>ryze','Sejuani>sej\\s|sejuani','Shaco>shaco',\n",
    "         'Shen>shen','Shyvana>shyv\\s|shyvana','Singed>singed','Sion>sion','Sivir>sivir',\n",
    "         'Skarner>skarner','Sona>sona','Soraka>raka\\s|soraka','Swain>swain','Syndra>syndra',\n",
    "         'TahmKench>tk\\s|tahm\\s|kench\\s','Taliyah>taliyah','Talon>talon','Taric>taric',\n",
    "         'Teemo>teemo|satan','Thresh>thresh','Tristana>trist\\s|tristana','Trundle>trundle',\n",
    "         'Tryndamere>tryn\\s|trynd\\s|trynda\\s|tryndamere','TwistedFate>tf\\s|twisted\\sfate',\n",
    "         'Twitch>twitch','Udyr>udyr','Urgot>urgot','Varus>varus','Vayne>vayne','Veigar>veig\\s|veigar',\n",
    "         'VelKoz>vel\\s|koz\\s|velkoz','Vi>vi\\s','Viktor>vik\\s|viktor','Vladimir>vlad\\s|vladimir',\n",
    "         'Volibear>voli\\s|volibear','Warwick>ww\\s|warwick','Wukong>wu\\s|wukong',\n",
    "         'Xerath>xerath','XinZhao>xin\\s|xinzhao','Yasuo>yas\\s|yasuo','Yorick>yorick',\n",
    "         'Zac>zac','Zed>zed','Ziggs>ziggs','Zilean>zilean','Zyra>zyra)']\n",
    "\n",
    "# I save typing by joining on the shared regex characters, and then I can split them back out and create a separate\n",
    "# RegEx object for each champion.\n",
    "champ_patterns = [re.compile(champ) for champ in \").+?,\\s(?P<\".join(champs).split(\",\")]"
   ]
  },
  {
   "cell_type": "code",
   "execution_count": 444,
   "metadata": {
    "collapsed": false
   },
   "outputs": [],
   "source": [
    "champion_mentions = {}\n",
    "for each in champ_patterns:\n",
    "    for k,v in each.groupindex.items():\n",
    "        champion_mentions.setdefault(k,0)"
   ]
  },
  {
   "cell_type": "code",
   "execution_count": 448,
   "metadata": {
    "collapsed": true
   },
   "outputs": [],
   "source": [
    "champ_list = []"
   ]
  },
  {
   "cell_type": "code",
   "execution_count": 449,
   "metadata": {
    "collapsed": false
   },
   "outputs": [
    {
     "name": "stdout",
     "output_type": "stream",
     "text": [
      "\r"
     ]
    }
   ],
   "source": [
    "for thread, comments in tqdm_notebook(main_dict.items(),desc='Threads',leave=False):\n",
    "    for tree in tqdm_notebook(comments,desc='Trees',leave=False):\n",
    "        temp = []\n",
    "        matches = [champ.search(str(tree)) for champ in champ_patterns]\n",
    "        for match in matches:\n",
    "            if match!=None:\n",
    "                for k,v in match.groupdict().items():\n",
    "                    temp.append(k)\n",
    "        if len(temp):\n",
    "            champ_list.append(temp)"
   ]
  },
  {
   "cell_type": "markdown",
   "metadata": {},
   "source": [
    "Now I need to generate my combinations of champions so I can calculate the edges between nodes. I also want to tally up individual champions to gauge overall popularity."
   ]
  }
 ],
 "metadata": {
  "anaconda-cloud": {},
  "kernelspec": {
   "display_name": "Python [Root]",
   "language": "python",
   "name": "Python [Root]"
  },
  "language_info": {
   "codemirror_mode": {
    "name": "ipython",
    "version": 3
   },
   "file_extension": ".py",
   "mimetype": "text/x-python",
   "name": "python",
   "nbconvert_exporter": "python",
   "pygments_lexer": "ipython3",
   "version": "3.5.2"
  }
 },
 "nbformat": 4,
 "nbformat_minor": 0
}
