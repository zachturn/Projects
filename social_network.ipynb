{
 "cells": [
  {
   "cell_type": "markdown",
   "metadata": {},
   "source": [
    "# League Social Network using Reddit Comments\n",
    "This notebook will create a social network consisting of champions that are mentioned in the same comment trees.\n",
    "\n",
    "## Steps\n",
    "1. Clean my data (trim new line characters, apostrophes, etc.)\n",
    "2. Define regular expressions to use to search for occurrences of a particular champion mention. Some champions have nicknames and abbreviations that I want to account for.\n",
    "3. For each comment tree, I'll create a list of champions that are mentioned within it.\n",
    "4. Once I have this set of lists, I can create a count of occurrences of each unique combination and use that to create an adjacency matrix.\n",
    "5. Finally, I can create my network from my adjacency matrix."
   ]
  },
  {
   "cell_type": "markdown",
   "metadata": {},
   "source": [
    "## Regular Expression (Cleaning)\n",
    "First I'll clean up my data so I'm just working with words, separated by spaces. Note that this cleaning is really only meant to help with champion names (some other words will get distorted in process but I'm not too worried). "
   ]
  },
  {
   "cell_type": "code",
   "execution_count": 97,
   "metadata": {
    "collapsed": true
   },
   "outputs": [],
   "source": [
    "import re\n",
    "import json\n",
    "\n",
    "main_dict = json.load(open('thread_comments.txt'))"
   ]
  },
  {
   "cell_type": "code",
   "execution_count": 117,
   "metadata": {
    "collapsed": false,
    "scrolled": true
   },
   "outputs": [],
   "source": [
    "for k,v in main_dict.items():\n",
    "    for i, tree in enumerate(v):\n",
    "        for j, comment in enumerate(tree): \n",
    "            comment = re.sub('(\\'s)','',comment)\n",
    "            comment = re.sub('[\\n!?\\\"\\'.,\\\\-/*\\(\\)]',' ',comment)\n",
    "            main_dict[k][i][j] = comment"
   ]
  }
 ],
 "metadata": {
  "anaconda-cloud": {},
  "kernelspec": {
   "display_name": "Python [Root]",
   "language": "python",
   "name": "Python [Root]"
  },
  "language_info": {
   "codemirror_mode": {
    "name": "ipython",
    "version": 3
   },
   "file_extension": ".py",
   "mimetype": "text/x-python",
   "name": "python",
   "nbconvert_exporter": "python",
   "pygments_lexer": "ipython3",
   "version": "3.5.2"
  }
 },
 "nbformat": 4,
 "nbformat_minor": 0
}
