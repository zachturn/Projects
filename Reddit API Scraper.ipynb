{
 "cells": [
  {
   "cell_type": "markdown",
   "metadata": {},
   "source": [
    "# Reddit API Web Scraper\n",
    "I started building a true web scraper using BeautifulSoup, and later discovered Reddit has an API to grab content, so I'm going to take advantage of that instead."
   ]
  },
  {
   "cell_type": "code",
   "execution_count": 1,
   "metadata": {
    "collapsed": false
   },
   "outputs": [],
   "source": [
    "from bs4 import BeautifulSoup\n",
    "import pandas as pd\n",
    "import re\n",
    "import time\n",
    "import requests\n",
    "import praw"
   ]
  },
  {
   "cell_type": "code",
   "execution_count": null,
   "metadata": {
    "collapsed": true
   },
   "outputs": [],
   "source": []
  },
  {
   "cell_type": "code",
   "execution_count": 73,
   "metadata": {
    "collapsed": false
   },
   "outputs": [
    {
     "data": {
      "text/plain": [
       "{'access_token': 'IJX2zBzC1sreVcFTCcQAAUEeozs',\n",
       " 'expires_in': 3600,\n",
       " 'scope': '*',\n",
       " 'token_type': 'bearer'}"
      ]
     },
     "execution_count": 73,
     "metadata": {},
     "output_type": "execute_result"
    }
   ],
   "source": [
    "user = \n",
    "password = \n",
    "CLient ID = \n",
    "Client Secret = \n",
    "client_auth = requests.auth.HTTPBasicAuth(clientID, secretID)\n",
    "post_data = {\"grant_type\": \"password\", \"username\": user, \"password\": password}\n",
    "headers = {\"User-Agent\": \"Comment Scraper by zachturn\"}\n",
    "response = requests.post(\"https://www.reddit.com/api/v1/access_token\", auth=client_auth, data=post_data, headers=headers)\n",
    "\n",
    "response.json()"
   ]
  },
  {
   "cell_type": "code",
   "execution_count": 74,
   "metadata": {
    "collapsed": true
   },
   "outputs": [],
   "source": [
    "response.json()['token_type'] + \" \" + response.json()['access_token']\n",
    "\n",
    "headers = {\"Authorization\": response.json()['token_type'] + \" \" + response.json()['access_token'],\n",
    "           \"User-Agent\": \"ChangeMeClient/0.1 by zachturn\"}"
   ]
  },
  {
   "cell_type": "code",
   "execution_count": 11,
   "metadata": {
    "collapsed": true
   },
   "outputs": [],
   "source": [
    "# This is the webpage I want to scrape\n",
    "main_json = requests.get('http://www.reddit.com/r/summonerschool/.json',headers=headers)"
   ]
  },
  {
   "cell_type": "code",
   "execution_count": 41,
   "metadata": {
    "collapsed": false
   },
   "outputs": [],
   "source": [
    "# Get after key. This will move the subreddit to the next page\n",
    "main_json.json()['data']['after']\n",
    "test = requests.get('http://www.reddit.com/r/summonerschool/.json',headers=headers,\n",
    "                   params={'after':main_json.json()['data']['after']})"
   ]
  },
  {
   "cell_type": "code",
   "execution_count": null,
   "metadata": {
    "collapsed": true
   },
   "outputs": [],
   "source": [
    "fullnames = []\n",
    "for i, each in enumerate(main_json.json()['data']['children']):\n",
    "    fullnames.append(each['data']['name'])"
   ]
  },
  {
   "cell_type": "code",
   "execution_count": 141,
   "metadata": {
    "collapsed": false
   },
   "outputs": [
    {
     "data": {
      "text/plain": [
       "['t3_4uvr0s', 't3_4vd660']"
      ]
     },
     "execution_count": 141,
     "metadata": {},
     "output_type": "execute_result"
    }
   ],
   "source": [
    "fullnames[0:2]"
   ]
  },
  {
   "cell_type": "code",
   "execution_count": 100,
   "metadata": {
    "collapsed": false
   },
   "outputs": [],
   "source": [
    "requests.get('https://oauth.reddit.com/by_id/names',headers=headers,params={'names':fullnames})"
   ]
  },
  {
   "cell_type": "code",
   "execution_count": 101,
   "metadata": {
    "collapsed": false
   },
   "outputs": [
    {
     "data": {
      "text/plain": [
       "['t3_4uvr0s',\n",
       " 't3_4vd660',\n",
       " 't3_4vjiew',\n",
       " 't3_4vhge8',\n",
       " 't3_4vh1zr',\n",
       " 't3_4vhkjc',\n",
       " 't3_4vjl91',\n",
       " 't3_4vjty1',\n",
       " 't3_4vinz4',\n",
       " 't3_4viycu',\n",
       " 't3_4vj252',\n",
       " 't3_4vj9wp',\n",
       " 't3_4vjkuc',\n",
       " 't3_4vhxgf',\n",
       " 't3_4vfbm2',\n",
       " 't3_4vjfjm',\n",
       " 't3_4vhsgf',\n",
       " 't3_4vjpak',\n",
       " 't3_4vjlfs',\n",
       " 't3_4vk8ux',\n",
       " 't3_4vk8dp',\n",
       " 't3_4vgob6',\n",
       " 't3_4vk0qj',\n",
       " 't3_4vjzjv',\n",
       " 't3_4vjzc9',\n",
       " 't3_4vhyp8',\n",
       " 't3_4vjtm9']"
      ]
     },
     "execution_count": 101,
     "metadata": {},
     "output_type": "execute_result"
    }
   ],
   "source": [
    "fullnames"
   ]
  },
  {
   "cell_type": "code",
   "execution_count": 126,
   "metadata": {
    "collapsed": false
   },
   "outputs": [],
   "source": [
    "test = requests.get('https://oauth.reddit.com/by_id/names',headers=headers,params={'names':fullnames})"
   ]
  },
  {
   "cell_type": "code",
   "execution_count": 136,
   "metadata": {
    "collapsed": false
   },
   "outputs": [
    {
     "data": {
      "text/plain": [
       "{'data': {'after': None,\n",
       "  'before': None,\n",
       "  'children': [{'data': {'approved_by': None,\n",
       "     'archived': False,\n",
       "     'author': 'pingasthrowaway',\n",
       "     'author_flair_css_class': None,\n",
       "     'author_flair_text': None,\n",
       "     'banned_by': None,\n",
       "     'clicked': False,\n",
       "     'created': 1470039083.0,\n",
       "     'created_utc': 1470010283.0,\n",
       "     'distinguished': None,\n",
       "     'domain': 'self.summonerschool',\n",
       "     'downs': 0,\n",
       "     'edited': False,\n",
       "     'from': None,\n",
       "     'from_id': None,\n",
       "     'from_kind': None,\n",
       "     'gilded': 0,\n",
       "     'hidden': False,\n",
       "     'hide_score': False,\n",
       "     'id': '4vjtm9',\n",
       "     'is_self': True,\n",
       "     'likes': None,\n",
       "     'link_flair_css_class': 'Sejuani',\n",
       "     'link_flair_text': 'Sejuani',\n",
       "     'locked': False,\n",
       "     'media': None,\n",
       "     'media_embed': {},\n",
       "     'mod_reports': [],\n",
       "     'name': 't3_4vjtm9',\n",
       "     'num_comments': 11,\n",
       "     'num_reports': None,\n",
       "     'over_18': False,\n",
       "     'permalink': '/r/summonerschool/comments/4vjtm9/im_vastly_better_with_tanks_than_squishy/',\n",
       "     'quarantine': False,\n",
       "     'removal_reason': None,\n",
       "     'report_reasons': None,\n",
       "     'saved': False,\n",
       "     'score': 1,\n",
       "     'secure_media': None,\n",
       "     'secure_media_embed': {},\n",
       "     'selftext': \"When can I get away with using these champions mid? I also like Cho'gath but some matchups are difficult and I assume they would only be worse for Sejuani/Sion. Vladimir and Swain used to be my mid lane mains but since their rework I hate them, and I've also never liked Galio. \\n\\nSejuani is probably my best champion. I don't consider myself amazing overall, but as Sejuani I usually carry. With this in mind, what tanks are viable mid now since the reworks and nerfs, besides the 3 obvious choices, Galio, Swain, and Vladimir?\",\n",
       "     'selftext_html': '&lt;!-- SC_OFF --&gt;&lt;div class=\"md\"&gt;&lt;p&gt;When can I get away with using these champions mid? I also like Cho&amp;#39;gath but some matchups are difficult and I assume they would only be worse for Sejuani/Sion. Vladimir and Swain used to be my mid lane mains but since their rework I hate them, and I&amp;#39;ve also never liked Galio. &lt;/p&gt;\\n\\n&lt;p&gt;Sejuani is probably my best champion. I don&amp;#39;t consider myself amazing overall, but as Sejuani I usually carry. With this in mind, what tanks are viable mid now since the reworks and nerfs, besides the 3 obvious choices, Galio, Swain, and Vladimir?&lt;/p&gt;\\n&lt;/div&gt;&lt;!-- SC_ON --&gt;',\n",
       "     'stickied': False,\n",
       "     'subreddit': 'summonerschool',\n",
       "     'subreddit_id': 't5_2t9x3',\n",
       "     'suggested_sort': None,\n",
       "     'thumbnail': 'self',\n",
       "     'title': \"I'm vastly better with tanks than squishy champions. Can I use Sejuani/Sion mid?\",\n",
       "     'ups': 1,\n",
       "     'url': 'https://www.reddit.com/r/summonerschool/comments/4vjtm9/im_vastly_better_with_tanks_than_squishy/',\n",
       "     'user_reports': [],\n",
       "     'visited': False},\n",
       "    'kind': 't3'}],\n",
       "  'modhash': None},\n",
       " 'kind': 'Listing'}"
      ]
     },
     "execution_count": 136,
     "metadata": {},
     "output_type": "execute_result"
    }
   ],
   "source": [
    "test.json()"
   ]
  }
 ],
 "metadata": {
  "kernelspec": {
   "display_name": "Python 3",
   "language": "python",
   "name": "python3"
  },
  "language_info": {
   "codemirror_mode": {
    "name": "ipython",
    "version": 3
   },
   "file_extension": ".py",
   "mimetype": "text/x-python",
   "name": "python",
   "nbconvert_exporter": "python",
   "pygments_lexer": "ipython3",
   "version": "3.5.1"
  }
 },
 "nbformat": 4,
 "nbformat_minor": 0
}
