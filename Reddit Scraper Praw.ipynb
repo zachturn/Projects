{
 "cells": [
  {
   "cell_type": "markdown",
   "metadata": {},
   "source": [
    "# Reddit API Web Scraper\n",
    "I started building a true web scraper using BeautifulSoup, and later discovered Reddit has an API to grab content, so I'm going to take advantage of that instead."
   ]
  },
  {
   "cell_type": "code",
   "execution_count": 29,
   "metadata": {
    "collapsed": false
   },
   "outputs": [
    {
     "name": "stderr",
     "output_type": "stream",
     "text": [
      "C:\\Program Files\\Anaconda\\lib\\site-packages\\pandas\\__init__.py:7: DeprecationWarning: bad escape \\s\n",
      "  from pandas import hashtable, tslib, lib\n"
     ]
    }
   ],
   "source": [
    "from bs4 import BeautifulSoup\n",
    "import pandas as pd\n",
    "import re\n",
    "import time\n",
    "import requests\n",
    "import praw"
   ]
  },
  {
   "cell_type": "markdown",
   "metadata": {},
   "source": [
    "Before I use praw to grab the comments, I'll scrap the front page with beautiful soup so I can grab the IDs for each of the threads"
   ]
  },
  {
   "cell_type": "code",
   "execution_count": 131,
   "metadata": {
    "collapsed": false
   },
   "outputs": [
    {
     "name": "stderr",
     "output_type": "stream",
     "text": [
      "C:\\Program Files\\Anaconda\\lib\\site-packages\\bs4\\builder\\_lxml.py:240: DeprecationWarning: inspect.getargspec() is deprecated, use inspect.signature() instead\n",
      "  self.parser.feed(markup)\n"
     ]
    }
   ],
   "source": [
    "# This is the webpage I want to scrape\n",
    "url = requests.get('http://www.reddit.com/r/summonerschool/',headers={\"User-Agent\": \"Comment Scraper by zachturn\"})\n",
    "\n",
    "# Load in the HTML data\n",
    "data = url.text\n",
    "soup = BeautifulSoup(data,\"lxml\")\n",
    "\n",
    "\n",
    "threads = soup.select(\"div#siteTable div.thing\")\n",
    "\n",
    "ids = []\n",
    "for thread in threads:\n",
    "    ids.append(re.search('_(.*)',thread['data-fullname']).group(1))"
   ]
  },
  {
   "cell_type": "markdown",
   "metadata": {},
   "source": [
    "Don't need the code below (for now)"
   ]
  },
  {
   "cell_type": "markdown",
   "metadata": {},
   "source": [
    "# PRAW"
   ]
  },
  {
   "cell_type": "code",
   "execution_count": 253,
   "metadata": {
    "collapsed": false
   },
   "outputs": [],
   "source": [
    "start = time.clock()\n",
    "r = praw.Reddit('Comment scraping attempt using praw by /u/zachturn')\n",
    "threads = {}\n",
    "for _id in ids:\n",
    "    submission = r.get_submission(submission_id=_id,comment_limit=None)\n",
    "    threads.setdefault(submission.title,{'sub_object':submission,'comments':[]})\n",
    "\n",
    "for k,v in threads.items():\n",
    "    v['sub_object'].replace_more_comments(limit=None,threshold=0)\n",
    "    flat_comments = praw.helpers.flatten_tree(v['sub_object'].comments)\n",
    "    for comment in flat_comments:\n",
    "        v['comments'].append(comment.body)\n",
    "runtime = time.clock() - start"
   ]
  }
 ],
 "metadata": {
  "kernelspec": {
   "display_name": "Python 3",
   "language": "python",
   "name": "python3"
  },
  "language_info": {
   "codemirror_mode": {
    "name": "ipython",
    "version": 3
   },
   "file_extension": ".py",
   "mimetype": "text/x-python",
   "name": "python",
   "nbconvert_exporter": "python",
   "pygments_lexer": "ipython3",
   "version": "3.5.1"
  }
 },
 "nbformat": 4,
 "nbformat_minor": 0
}
