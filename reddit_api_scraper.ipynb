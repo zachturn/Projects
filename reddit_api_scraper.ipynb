{
 "cells": [
  {
   "cell_type": "markdown",
   "metadata": {},
   "source": [
    "# Reddit API Web Scraper\n",
    "I started building a true web scraper using BeautifulSoup, and later discovered Reddit has an API to grab content, so I'm going to take advantage of that instead."
   ]
  },
  {
   "cell_type": "code",
   "execution_count": 1,
   "metadata": {
    "collapsed": false
   },
   "outputs": [],
   "source": [
    "import pandas as pd\n",
    "import numpy as np\n",
    "import re\n",
    "import time\n",
    "import requests\n",
    "from tqdm import tqdm_notebook\n",
    "\n",
    "# Local file that stores my credentials for accessing the API\n",
    "from reddit_oauth import username, password, client_id, client_secret"
   ]
  },
  {
   "cell_type": "code",
   "execution_count": 5,
   "metadata": {
    "collapsed": false
   },
   "outputs": [],
   "source": [
    "def check_more(comment):\n",
    "    if comment['kind']=='more':\n",
    "        if comment['data']['parent_id'][0:2]==\"t3\":\n",
    "            v['more'].extend(tuple(comment['data']['children']))\n",
    "        return True\n",
    "\n",
    "def get_more_children(parent,comment):\n",
    "    more_comment_ids = comment['data']['children']\n",
    "    #more_comments = requests.get('https://oauth.reddit.com/api/morechildren',headers=headers,\n",
    "    #                    params={'children':','.join(more_comment_ids),'link_id':link_id})\n",
    "    more_comments = requests.get('https://oauth.reddit.com/api/morechildren',headers=headers,\n",
    "                        params={'children':more_comment_ids,'link_id':link_id})\n",
    "    more_comments = more_comments.json()['jquery'][14][3][0]\n",
    "    for more in more_comments:\n",
    "        if check_more(more):\n",
    "            if more['data']['count']==0:\n",
    "                continue\n",
    "            get_more_children(parent,more)\n",
    "            continue\n",
    "        parent.append(more['data']['body'].lower())\n",
    "        get_children(parent,more)\n",
    "\n",
    "def get_children(parent,comment):\n",
    "    if comment['data']['replies'] != '':\n",
    "        children = comment['data']['replies']['data']['children']\n",
    "        for child in children:\n",
    "            if check_more(child):\n",
    "                if child['data']['count']==0:\n",
    "                    continue\n",
    "                get_more_children(parent,child)\n",
    "                continue\n",
    "            else:\n",
    "                parent.append(child['data']['body'].lower())\n",
    "                get_children(parent,child)\n",
    "            \n",
    "def get_parents(comments):\n",
    "    for each in tqdm_notebook(comments,desc='Parents',leave=False):\n",
    "        if check_more(each): \n",
    "            continue\n",
    "        parent = [each['data']['body'].lower()]\n",
    "        v['comments'].append(parent)\n",
    "        get_children(parent,each)\n",
    "\n",
    "def get_more_parents(more_parents):\n",
    "    for parent_id in tqdm_notebook(more_parents,desc='More Parents',leave=False):\n",
    "        parent_comment = requests.get(url,headers=headers,params={'comment':parent_id}) \n",
    "        parent_comments = parent_comment.json()[1]['data']['children']\n",
    "        get_parents(parent_comments)\n",
    "        time.sleep(0.3)        "
   ]
  },
  {
   "cell_type": "code",
   "execution_count": 6,
   "metadata": {
    "collapsed": true
   },
   "outputs": [],
   "source": [
    "client_auth = requests.auth.HTTPBasicAuth(client_id, client_secret)\n",
    "post_data = {\"grant_type\": \"password\", \"username\": username, \"password\": password,\"redirect_uri\":'http://localhost'}\n",
    "user_agent = {\"User-Agent\": \"Comment Scraper app by /u/\" + username}\n",
    "response = requests.post(\"https://www.reddit.com/api/v1/access_token\", auth=client_auth, data=post_data, headers=user_agent)\n",
    "\n",
    "headers = {\"Authorization\": response.json()['token_type'] + \" \" + response.json()['access_token'],\n",
    "           \"User-Agent\": \"Comment Scraper app by /u/\" + username}"
   ]
  },
  {
   "cell_type": "code",
   "execution_count": 7,
   "metadata": {
    "collapsed": false
   },
   "outputs": [
    {
     "name": "stdout",
     "output_type": "stream",
     "text": [
      "\r"
     ]
    }
   ],
   "source": [
    "subreddit = 'summonerschool'\n",
    "num_pages = 4\n",
    "\n",
    "# Create skeleton dictionary with thread titles as keys.\n",
    "master = {}\n",
    "after = None\n",
    "\n",
    "for pages in range(num_pages):\n",
    "    # This is the webpage I want to scrape. For this intial scrape, I want to make sure\n",
    "    # I am updating my user-agent because I'm not accessing the reddit API just yet.\n",
    "    url = 'http://www.reddit.com/r/' + subreddit + '/.json'\n",
    "    main_json = requests.get(url,headers=user_agent,params={'after':after})\n",
    "    after = main_json.json()['data']['after']\n",
    "\n",
    "    for each in main_json.json()['data']['children']:\n",
    "        master.setdefault(each['data']['title'],{'id':each['data']['id'],'json':[],'comments':[],'more':[],'expected_comments':each['data']['num_comments'],'actual_comments':0})   \n",
    "\n",
    "for k,v in tqdm_notebook(master.items(),desc='Thread',leave=False):\n",
    "    \n",
    "    url = 'https://oauth.reddit.com/r/' + subreddit + '/comments/' + v['id']\n",
    "    v['json'] = requests.get(url,headers=headers)\n",
    "    \n",
    "    if v['json'].status_code!=200:\n",
    "        print(\"JSON Retrieval Error\")\n",
    "        raise KeyboardInterrupt\n",
    "   \n",
    "    link_id = v['json'].json()[0]['data']['children'][0]['data']['name']\n",
    "    parents = v['json'].json()[1]['data']['children']\n",
    "    get_parents(parents)\n",
    "    get_more_parents(v['more'])\n",
    "    \n",
    "    for comments in v['comments']:\n",
    "        v['actual_comments'] += len(comments)"
   ]
  },
  {
   "cell_type": "markdown",
   "metadata": {},
   "source": [
    "Check how many comments I have for each thread"
   ]
  },
  {
   "cell_type": "code",
   "execution_count": 8,
   "metadata": {
    "collapsed": false,
    "scrolled": true
   },
   "outputs": [
    {
     "name": "stdout",
     "output_type": "stream",
     "text": [
      "I often don't know what to do with myself past laning. Actual: 12 Expected: 12\n",
      "Help me please. [Plat 5] Actual: 8 Expected: 8\n",
      "How do you defend turrets as a full melee champion? Actual: 20 Expected: 19\n",
      "Increase the mini map size. Actual: 2 Expected: 2\n",
      "What are some tips to beating Orianna in laning phase? Actual: 8 Expected: 8\n",
      "I want to be a OTP (or two) Actual: 31 Expected: 31\n",
      "Veigar Support at Low Elo? Actual: 8 Expected: 8\n",
      "How to become a better solo laner? Actual: 4 Expected: 4\n",
      "Tips on how to stay on / keep attacking champions that blink untargetable Actual: 6 Expected: 6\n",
      "Looking for some Shyvana tips Actual: 20 Expected: 20\n",
      "ADC losing late game Actual: 2 Expected: 2\n",
      "what should I improve if i want to achieve master tier ? Actual: 2 Expected: 2\n",
      "Most effective bot lane combos for duos/coordinated players? Actual: 16 Expected: 16\n",
      "Post your OP.GG seeking advice! Actual: 0 Expected: 0\n",
      "In lower ELO, why do teams group mid so fast? Actual: 58 Expected: 58\n",
      "How to use Kled unmounted? Actual: 8 Expected: 8\n",
      "Best Bans by Tier in Each Region (Patch 6.16): A Statistical Analysis - Ashe Edition Actual: 34 Expected: 34\n",
      "Skarner advice. Actual: 7 Expected: 7\n",
      "Kind of a rant at the start, but need help with jungle Gold 1 HELP PLEASE! Actual: 4 Expected: 4\n",
      "New Free Champion Rotation Actual: 28 Expected: 28\n",
      "Transitioning from a support main to ADC Actual: 2 Expected: 2\n",
      "When to group and when not too. Actual: 10 Expected: 10\n",
      "I wanna play Nidalee but I'm terrible at jungling what should I do? Actual: 10 Expected: 10\n",
      "Adc help when it comes to supports, and dives. Actual: 1 Expected: 1\n",
      "Could Varus ADC work right now? Actual: 41 Expected: 45\n",
      "How do i deal with cassiopeia? Actual: 14 Expected: 14\n",
      "How is my jungle path; how can I improve it? Actual: 22 Expected: 23\n",
      "Things you're doing wrong that you probably didn't realise: Support Edition Actual: 44 Expected: 44\n",
      "Can't play with locked camera Actual: 5 Expected: 5\n",
      "How do other people gain elo so fast? Actual: 11 Expected: 11\n",
      "Against Anivia in lane should you go all in for the passive like you would for a kill? Actual: 8 Expected: 8\n",
      "Why does MLXG not finish his jungle item? Actual: 29 Expected: 33\n",
      "A Bit of Direction on Vi? Actual: 14 Expected: 14\n",
      "Bronze adc main looking to OTP a stable adc who is not completey reliant on support/jg/top in teamfight phase but iant in danger of getting nerfed into the ground Actual: 33 Expected: 33\n",
      "Any simple carry top laners? Actual: 51 Expected: 53\n",
      "Prioritizing Grouping over CS Leads to Game Loss as an ADC and vise versa? Actual: 13 Expected: 13\n",
      "Hey everyone, LS here, AMAA! Actual: 1221 Expected: 1267\n",
      "Tips to improve my gameplay (support) Actual: 3 Expected: 3\n",
      "What team comps are the following mid laners good in or against? Actual: 2 Expected: 2\n",
      "would this warwick idea work (mechanics, interactions) Actual: 9 Expected: 9\n",
      "Champion Discussion of the Day: Katarina Actual: 47 Expected: 47\n",
      "Thoughts on running Ghost for junglers with not that good early ganking? Actual: 5 Expected: 5\n",
      "Differences in the game between S3/4 and the live patch? Actual: 10 Expected: 10\n",
      "ADC's situation after changing botlane turrets - having problem and looking for solution Actual: 7 Expected: 7\n",
      "How/when to try for Dragon? Actual: 3 Expected: 3\n",
      "[Low ELO] What should I do when teams don't group? Actual: 14 Expected: 14\n",
      "Watching LCS/LCK/LMS/etc vs random streamers Actual: 18 Expected: 18\n",
      "Does forbidden idol passive proc on athenes? Actual: 6 Expected: 6\n",
      "I ban Yasuo when someone hovers it. Is it normal to do? Actual: 30 Expected: 30\n",
      "Need some opinions? Actual: 6 Expected: 6\n",
      "Champion Discussion of the Day: Kayle Actual: 24 Expected: 22\n",
      "Questions for all of you God Tier Pirates out there (GP) Actual: 13 Expected: 13\n",
      "[Ranked] At what point is it wise to just turn tail and accept a loss? Actual: 10 Expected: 10\n",
      "looking for advice on Support Actual: 4 Expected: 4\n",
      "wave managment Actual: 3 Expected: 3\n",
      "Looking for some Vi infor Actual: 12 Expected: 12\n",
      "Explain Gnar vs Irelia Matchup? Actual: 3 Expected: 3\n",
      "Can anyone give Tahm Kench Support tips? Actual: 14 Expected: 14\n",
      "AD caster Ezreal Actual: 4 Expected: 4\n",
      "Sell me a new jungler Actual: 22 Expected: 22\n",
      "Noc jungle vs gragas or lee Actual: 14 Expected: 14\n",
      "Frozen Mallet popular? Actual: 59 Expected: 67\n",
      "Help playing against Teemo Actual: 5 Expected: 5\n",
      "Should I keep supporting? Actual: 14 Expected: 14\n",
      "Simple Questions Simple Answers: 60 Actual: 1531 Expected: 1526\n",
      "Looking for advice and tips on Karthus Actual: 7 Expected: 7\n",
      "Your buttons and their value (for newer players) Actual: 2 Expected: 2\n",
      "Team Comps, and Different Ways to End? Actual: 10 Expected: 10\n",
      "When to shove, freeze, or keep the lane in the middle looking at matchups Actual: 8 Expected: 8\n",
      "How should I increase my midlane CS/min count? Actual: 4 Expected: 4\n",
      "What's the Best Way to Gain Something From a Loss? Actual: 5 Expected: 5\n",
      "Setting only 1 ability to ranged indicator Actual: 5 Expected: 5\n",
      "Is it OK to /mute all on every single game? Actual: 67 Expected: 69\n",
      "Xin Zhao tips - how to, alternative for BotRK Actual: 28 Expected: 28\n",
      "Lol in singapore garena? Actual: 1 Expected: 1\n",
      "How should i play AP ezrael mid? Actual: 19 Expected: 19\n",
      "Playing In The Morning VS Playing At Night Actual: 24 Expected: 24\n",
      "When Should you Stop Playing a Champion in Ranked? Winrate Actual: 60 Expected: 60\n",
      "Why are people still ranking Q first on support Lulu after the changes? Actual: 4 Expected: 4\n",
      "Where am I supposed to go as an ADC? Actual: 5 Expected: 5\n",
      "Weekly Replay Review Thread: Week 38 Actual: 12 Expected: 12\n",
      "A guide to being an One Trick Pony Actual: 253 Expected: 256\n",
      "I Think I've Plateaued Actual: 9 Expected: 9\n",
      "how to build Draven Actual: 12 Expected: 12\n",
      "Need some help top Actual: 9 Expected: 9\n",
      "Why do I keep losing ? Actual: 12 Expected: 13\n",
      "Shyvana micro and skins... Hm? Actual: 4 Expected: 4\n",
      "How do Ranked teams work? Actual: 2 Expected: 2\n",
      "Lee Sin: When to switch to sweeper Actual: 3 Expected: 3\n",
      "When should I play aggressive as adc? Actual: 13 Expected: 13\n",
      "How does he do that? Actual: 9 Expected: 9\n",
      "Why does LS think replay analysis is a bad way to improve? Actual: 7 Expected: 3\n",
      "Am I holding myself back by playing Yasuo? Actual: 64 Expected: 71\n",
      "How to teach yourself when you can win a trade or all in? Actual: 24 Expected: 24\n",
      "Bad Top Lane Matchup Actual: 8 Expected: 8\n",
      "Chogath Feast indicator not showing in-game Actual: 5 Expected: 5\n",
      "What should people do when games become stale? Actual: 12 Expected: 12\n",
      "What to do on late game Wu? Actual: 17 Expected: 17\n",
      "I'm d4 top from euw and never consistent on my elo(rollercoasting between low dia and high) any tips to improve overall to be a better player? Actual: 7 Expected: 8\n",
      "From ADC/Mid position to a Top position? Actual: 3 Expected: 3\n",
      "How can I get better with my early game as Sejuani? Actual: 4 Expected: 4\n",
      "How do I explain to my team that team comp doesn't matter? Actual: 9 Expected: 9\n"
     ]
    }
   ],
   "source": [
    "for k, v in master.items():\n",
    "    print(k,\"Actual:\",v['actual_comments'],\"Expected:\",v['expected_comments'])"
   ]
  },
  {
   "cell_type": "markdown",
   "metadata": {},
   "source": [
    "The counts are mostly right, some are a bit off. Couple of reasons:\n",
    "\n",
    "1. Sometimes more comments are posted after I pull the intial count.\n",
    "2. If a thread is especially long, the comments are stored in a \"continue thread\" link, which I'm not particularly interested in."
   ]
  }
 ],
 "metadata": {
  "kernelspec": {
   "display_name": "Python [Root]",
   "language": "python",
   "name": "Python [Root]"
  },
  "language_info": {
   "codemirror_mode": {
    "name": "ipython",
    "version": 3
   },
   "file_extension": ".py",
   "mimetype": "text/x-python",
   "name": "python",
   "nbconvert_exporter": "python",
   "pygments_lexer": "ipython3",
   "version": "3.5.2"
  }
 },
 "nbformat": 4,
 "nbformat_minor": 0
}
